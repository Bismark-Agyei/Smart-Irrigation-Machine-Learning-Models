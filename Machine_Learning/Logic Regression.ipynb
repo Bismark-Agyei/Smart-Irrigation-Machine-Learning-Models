import pandas as pd
from sklearn.linear_model import LogisticRegression
from sklearn.model_selection import train_test_split
from sklearn.metrics import accuracy_score, classification_report, confusion_matrix
import seaborn as sns
import matplotlib.pyplot as plt
import joblib

# Load dataset
df = pd.read_csv("YieldResults.csv")

# Create irrigation label
def label_irrigation(row):
    if row["soil_moisture"] < 30 and row["rainfall"] < 60:
        return 1
    return 0
df["irrigate"] = df.apply(label_irrigation, axis=1)

# Features and target
X = df[["temperature", "soil_moisture", "rainfall"]]
y = df["irrigate"]

# Train/test split
X_train, X_test, y_train, y_test = train_test_split(X, y, test_size=0.2, random_state=42)

# Logistic Regression
clf = LogisticRegression(max_iter=1000)
clf.fit(X_train, y_train)

# Save model
joblib.dump(clf, "irrigation_logreg.pkl")

# Evaluation
y_pred = clf.predict(X_test)
print("Accuracy:", accuracy_score(y_test, y_pred))
print(classification_report(y_test, y_pred))

cm = confusion_matrix(y_test, y_pred)
sns.heatmap(cm, annot=True, fmt="d", cmap="Blues", xticklabels=["No", "Yes"], yticklabels=["No", "Yes"])
plt.title("Logistic Regression Confusion Matrix")
plt.show()

