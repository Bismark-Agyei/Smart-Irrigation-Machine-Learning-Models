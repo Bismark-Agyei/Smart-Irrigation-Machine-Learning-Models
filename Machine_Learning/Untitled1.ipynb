{
 "cells": [
  {
   "cell_type": "code",
   "execution_count": 2,
   "id": "759943bb-e0d6-49c3-939f-f5c01ae6588a",
   "metadata": {},
   "outputs": [
    {
     "name": "stdout",
     "output_type": "stream",
     "text": [
      "Model trained and saved.\n",
      "No Irrigation Needed\n",
      "Accuracy: 0.505\n",
      "\n",
      "Classification Report:\n",
      "               precision    recall  f1-score   support\n",
      "\n",
      "           0       0.47      0.25      0.32       191\n",
      "           1       0.52      0.74      0.61       209\n",
      "\n",
      "    accuracy                           0.51       400\n",
      "   macro avg       0.49      0.49      0.47       400\n",
      "weighted avg       0.49      0.51      0.47       400\n",
      "\n"
     ]
    },
    {
     "data": {
      "image/png": "[encoded data removed]",
      "text/plain": [
       "<Figure size 640x480 with 2 Axes>"
      ]
     },
     "metadata": {},
     "output_type": "display_data"
    }
   ],
   "source": [
    "import pandas as pd\n",
    "from sklearn.tree import DecisionTreeClassifier\n",
    "from sklearn.model_selection import train_test_split\n",
    "import joblib\n",
    "\n",
    "# Load your dataset (historical data where labels already exist)\n",
    "df = pd.read_csv(\"synthetic_soil_data.csv\")\n",
    "\n",
    "# Features and target\n",
    "X = df[[\"temperature\", \"soil_moisture\", \"rainfall\"]]  # These are the input features\n",
    "y = df[\"irrigate\"]  # This is the target (Irrigation: 1 or 0)\n",
    "\n",
    "# Train/test split\n",
    "X_train, X_test, y_train, y_test = train_test_split(X, y, test_size=0.2, random_state=42)\n",
    "\n",
    "# Train Decision Tree model (or another model like RandomForest, etc.)\n",
    "clf = DecisionTreeClassifier(max_depth=5, criterion=\"gini\", class_weight=\"balanced\")\n",
    "clf.fit(X_train, y_train)  # The model will learn the relationship between the features and the target\n",
    "\n",
    "\n",
    "# Save model\n",
    "joblib.dump(clf, \"irrigation_model_balanced.pkl\")\n",
    "\n",
    "# Save model for future use\n",
    "joblib.dump(clf, \"irrigation_model.pkl\")\n",
    "print(\"Model trained and saved.\")\n",
    "\n",
    "# Now you can load the trained model and make predictions\n",
    "import pandas as pd\n",
    "import joblib\n",
    "\n",
    "# Load the trained model\n",
    "model = joblib.load(\"irrigation_model.pkl\")\n",
    "\n",
    "# Correct sensor input (must match model training features)\n",
    "sensor_data = {\n",
    "    \"temperature\": 33,\n",
    "    \"soil_moisture\": 25,\n",
    "    \"rainfall\": 0.0  # Example: No rainfall, soil moisture is low\n",
    "}\n",
    "\n",
    "# Convert the input data to a DataFrame\n",
    "input_df = pd.DataFrame([sensor_data])\n",
    "\n",
    "# Predict irrigation need based on input data\n",
    "prediction = model.predict(input_df)[0]\n",
    "\n",
    "# Output result\n",
    "print(\"Irrigation Needed\" if prediction == 1 else \"No Irrigation Needed\")\n",
    "\n",
    "# Evaluate model performance on test set\n",
    "from sklearn.metrics import accuracy_score, classification_report, confusion_matrix\n",
    "import seaborn as sns\n",
    "import matplotlib.pyplot as plt\n",
    "\n",
    "# Predict on test data\n",
    "y_pred = clf.predict(X_test)\n",
    "\n",
    "# Accuracy\n",
    "print(\"Accuracy:\", accuracy_score(y_test, y_pred))\n",
    "\n",
    "# Classification report\n",
    "print(\"\\nClassification Report:\\n\", classification_report(y_test, y_pred))\n",
    "\n",
    "# Confusion Matrix\n",
    "cm = confusion_matrix(y_test, y_pred)\n",
    "sns.heatmap(cm, annot=True, fmt=\"d\", cmap=\"Blues\", xticklabels=[\"No\", \"Yes\"], yticklabels=[\"No\", \"Yes\"])\n",
    "plt.xlabel(\"Predicted\")\n",
    "plt.ylabel(\"Actual\")\n",
    "plt.title(\"Irrigation Confusion Matrix\")\n",
    "plt.show()\n"
   ]
  },
  {
   "cell_type": "code",
   "execution_count": 3,
   "id": "4c666b49-ff92-4431-844e-42146439530f",
   "metadata": {},
   "outputs": [
    {
     "name": "stdout",
     "output_type": "stream",
     "text": [
      "Feature Importances: [0.26167134 0.47813279 0.26019587]\n"
     ]
    }
   ],
   "source": [
    "import numpy as np\n",
    "# Feature importance for Decision Tree\n",
    "feature_importances = clf.feature_importances_\n",
    "print(\"Feature Importances:\", feature_importances)\n"
   ]
  },
  {
   "cell_type": "code",
   "execution_count": null,
   "id": "26438cec-5cc9-441a-9943-1eb8b492e000",
   "metadata": {},
   "outputs": [],
   "source": []
  }
 ],
 "metadata": {
  "kernelspec": {
   "display_name": "Venv)",
   "language": "python",
   "name": "ml-env"
  },
  "language_info": {
   "codemirror_mode": {
    "name": "ipython",
    "version": 3
   },
   "file_extension": ".py",
   "mimetype": "text/x-python",
   "name": "python",
   "nbconvert_exporter": "python",
   "pygments_lexer": "ipython3",
   "version": "3.13.5"
  }
 },
 "nbformat": 4,
 "nbformat_minor": 5
}
