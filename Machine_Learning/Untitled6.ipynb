{
 "cells": [
  {
   "cell_type": "code",
   "execution_count": null,
   "id": "bae51ce9",
   "metadata": {},
   "outputs": [],
   "source": []
  }
 ],
 "metadata": {
  "kernelspec": {
   "display_name": "Venv)",
   "language": "python",
   "name": "ml-env"
  }
 },
 "nbformat": 4,
 "nbformat_minor": 5
}
